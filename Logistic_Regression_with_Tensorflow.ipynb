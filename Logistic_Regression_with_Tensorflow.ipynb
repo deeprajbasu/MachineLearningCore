{
  "nbformat": 4,
  "nbformat_minor": 0,
  "metadata": {
    "colab": {
      "provenance": [],
      "authorship_tag": "ABX9TyNMfVunPPiMfM9Rq+lQUPm2"
    },
    "kernelspec": {
      "name": "python3",
      "display_name": "Python 3"
    },
    "language_info": {
      "name": "python"
    }
  },
  "cells": [
    {
      "cell_type": "markdown",
      "source": [
        "# Logistic Regression with Tensorflow"
      ],
      "metadata": {
        "id": "hIhw2x09NDrz"
      }
    },
    {
      "cell_type": "markdown",
      "source": [
        "logistic regression equation. \n",
        "\n",
        "$$\n",
        "ŷ =sigmoid(WX+b)\n",
        "$$\n",
        "\n",
        "\n",
        "*   WX = weight times features matrix multiplication operation,\n",
        "*   WX+b =  weighted features add bias term,\n",
        "*   sigmoid =  application of a sigmoid function.\n",
        "\n",
        "sigmoid function\n",
        "$$\n",
        "\\theta(y) = \\frac{e^y}{1 + e^y} = exp(y) / (1 + exp(y)) = p\n",
        "$$\n"
      ],
      "metadata": {
        "id": "pSjWTl4kN7Y5"
      }
    },
    {
      "cell_type": "code",
      "source": [
        "import tensorflow as tf\n",
        "import pandas as pd\n",
        "import numpy as np\n",
        "import time\n",
        "from sklearn.datasets import load_iris\n",
        "from sklearn.model_selection import train_test_split\n",
        "from sklearn.metrics import accuracy_score\n",
        "import matplotlib.pyplot as plt"
      ],
      "metadata": {
        "id": "-AAbKXaZNIj1"
      },
      "execution_count": 26,
      "outputs": []
    },
    {
      "cell_type": "code",
      "source": [
        "## load data"
      ],
      "metadata": {
        "id": "n0_2gnbQPYUc"
      },
      "execution_count": 2,
      "outputs": []
    },
    {
      "cell_type": "code",
      "source": [
        "iris = load_iris()\n",
        "iris.data[0:2] , iris .target[0:2]"
      ],
      "metadata": {
        "colab": {
          "base_uri": "https://localhost:8080/"
        },
        "id": "JGb22dBSNli7",
        "outputId": "dc81823d-522c-482a-a013-e82e9fcd6eb5"
      },
      "execution_count": 6,
      "outputs": [
        {
          "output_type": "execute_result",
          "data": {
            "text/plain": [
              "(array([[5.1, 3.5, 1.4, 0.2],\n",
              "        [4.9, 3. , 1.4, 0.2]]), array([0, 0]))"
            ]
          },
          "metadata": {},
          "execution_count": 6
        }
      ]
    },
    {
      "cell_type": "code",
      "source": [
        "#train test split for validation "
      ],
      "metadata": {
        "id": "EaLbBwEsQASB"
      },
      "execution_count": 7,
      "outputs": []
    },
    {
      "cell_type": "code",
      "source": [
        "iris_X, iris_y = iris.data[:-1,:], iris.target[:-1]\n",
        "iris_y= pd.get_dummies(iris_y).values\n",
        "trainX, testX, trainY, testY = train_test_split(iris_X, iris_y, test_size=0.33, random_state=42)"
      ],
      "metadata": {
        "id": "5bj1yYUTPdx7"
      },
      "execution_count": 8,
      "outputs": []
    },
    {
      "cell_type": "code",
      "source": [
        "#tensorflow constants \n",
        "trainX = tf.constant(trainX, dtype='float32')\n",
        "trainY = tf.constant(trainY, dtype='float32')\n",
        "testX = tf.constant(testX, dtype='float32')\n",
        "testY = tf.constant(testY, dtype='float32')"
      ],
      "metadata": {
        "id": "j_AgJwrCQCx5"
      },
      "execution_count": 9,
      "outputs": []
    },
    {
      "cell_type": "code",
      "source": [
        "#number of features and labels/classes for initializing W and b"
      ],
      "metadata": {
        "id": "I2iVqIKmRGJS"
      },
      "execution_count": 13,
      "outputs": []
    },
    {
      "cell_type": "code",
      "source": [
        "numOfFeatures = trainX.shape[1]\n",
        "numofClasses = trainY.shape[1]\n",
        "[numOfFeatures,numofClasses]"
      ],
      "metadata": {
        "colab": {
          "base_uri": "https://localhost:8080/"
        },
        "id": "-ilFhKs6QPWZ",
        "outputId": "d4c81975-9b01-4826-b3ec-e4fc263632da"
      },
      "execution_count": 15,
      "outputs": [
        {
          "output_type": "execute_result",
          "data": {
            "text/plain": [
              "[4, 3]"
            ]
          },
          "metadata": {},
          "execution_count": 15
        }
      ]
    },
    {
      "cell_type": "code",
      "source": [
        "#Randomly sample from a normal distribution with standard deviation .01\n",
        "\n",
        "W = tf.Variable(tf.random.normal([numOfFeatures,numofClasses],\n",
        "                                       mean=0.,\n",
        "                                       stddev=0.01,\n",
        "                                       name=\"weights\"),dtype='float32')\n",
        "\n",
        "\n",
        "b = tf.Variable(tf.random.normal([1,numofClasses],\n",
        "                                    mean=0.,\n",
        "                                    stddev=0.01,\n",
        "                                    name=\"bias\"))\n",
        "W,b"
      ],
      "metadata": {
        "colab": {
          "base_uri": "https://localhost:8080/"
        },
        "id": "-KcCj7wfQqyL",
        "outputId": "df26d9df-9c6e-495c-83aa-d639f7f96363"
      },
      "execution_count": 16,
      "outputs": [
        {
          "output_type": "execute_result",
          "data": {
            "text/plain": [
              "(<tf.Variable 'Variable:0' shape=(4, 3) dtype=float32, numpy=\n",
              " array([[ 0.00225626,  0.02235163, -0.01794909],\n",
              "        [-0.00414564, -0.01146309,  0.0003259 ],\n",
              "        [-0.0124519 , -0.00802796, -0.00958993],\n",
              "        [ 0.00209479,  0.00137991,  0.00794521]], dtype=float32)>,\n",
              " <tf.Variable 'Variable:0' shape=(1, 3) dtype=float32, numpy=array([[ 0.00920732,  0.01522497, -0.01884414]], dtype=float32)>)"
            ]
          },
          "metadata": {},
          "execution_count": 16
        }
      ]
    },
    {
      "cell_type": "code",
      "source": [
        "#implement logistic regression ŷ =sigmoid(WX+b)\n",
        "def logistic_regression(x):\n",
        "    Wx = tf.matmul(x, W, name=\"apply_weights\")#Wx\n",
        "    Wxplusb = tf.add(Wx, b, name=\"add_bias\") #Wx+b\n",
        "    sigOfWxplusb = tf.nn.sigmoid(Wxplusb, name=\"activation\") #sigmoid(Wx+b)\n",
        "    return sigOfWxplusb"
      ],
      "metadata": {
        "id": "DcIcUiIeQZA4"
      },
      "execution_count": 19,
      "outputs": []
    },
    {
      "cell_type": "code",
      "source": [
        "#cost function and optimizer(SGD)\n",
        "loss_object = tf.keras.losses.MeanSquaredLogarithmicError()\n",
        "learningRate = tf.keras.optimizers.schedules.ExponentialDecay(initial_learning_rate=0.0008,\n",
        "                                          decay_steps=trainX.shape[0],\n",
        "                                          decay_rate= 0.95,\n",
        "                                          staircase=True)\n",
        "optimizer = tf.keras.optimizers.SGD(learningRate)#0.000001 is learning rate"
      ],
      "metadata": {
        "id": "EqCEMfNlSyyW"
      },
      "execution_count": 33,
      "outputs": []
    },
    {
      "cell_type": "code",
      "source": [
        "#calculate gradients for optimizing W and b \n",
        "def run_optimization(x, y):\n",
        "    with tf.GradientTape() as g:\n",
        "        pred = logistic_regression(x)\n",
        "        loss = loss_object(pred, y)\n",
        "    gradients = g.gradient(loss, [W, b])\n",
        "    optimizer.apply_gradients(zip(gradients, [W, b]))"
      ],
      "metadata": {
        "id": "UfWCB8XvT8Vm"
      },
      "execution_count": 22,
      "outputs": []
    },
    {
      "cell_type": "code",
      "source": [
        "# training loop"
      ],
      "metadata": {
        "id": "SLXYD49QUjrk"
      },
      "execution_count": 24,
      "outputs": []
    },
    {
      "cell_type": "code",
      "source": [
        "display_step = 10\n",
        "epoch_values = []\n",
        "accuracy_values = []\n",
        "loss_values = []\n",
        "loss = 0\n",
        "diff = 1\n",
        "\n",
        "# Training epochs\n",
        "numEpochs=1000\n",
        "for i in range(numEpochs):\n",
        "        # Run training step\n",
        "        run_optimization(trainX, trainY)\n",
        "        \n",
        "        # Report occasional stats with test data\n",
        "        if i % display_step == 0:\n",
        "            # Add epoch to epoch_values\n",
        "            epoch_values.append(i)\n",
        "            \n",
        "            pred = logistic_regression(testX)\n",
        "\n",
        "            newLoss = loss_object(pred, testY)\n",
        "            # Add loss to live graphing variable\n",
        "            loss_values.append(newLoss)\n",
        "            \n",
        "            # Generate accuracy stats on test data\n",
        "            predclass = np.argmax(pred, axis=1)\n",
        "            labelclass = np.argmax(testY, axis=1)\n",
        "            acc = accuracy_score(predclass, labelclass)\n",
        "            accuracy_values.append(acc)\n",
        "            \n",
        "    \n",
        "            # Re-assign values for variables\n",
        "            diff = abs(newLoss - loss)\n",
        "            loss = newLoss\n",
        "\n",
        "            #generate print statements\n",
        "            print(\"step %d, training accuracy %g, loss %g, change in loss %g\"%(i, acc, newLoss, diff))\n"
      ],
      "metadata": {
        "colab": {
          "base_uri": "https://localhost:8080/"
        },
        "id": "krusHmUTUwkZ",
        "outputId": "180b6797-183b-4cc1-d5e2-58a97e35a776"
      },
      "execution_count": 34,
      "outputs": [
        {
          "output_type": "stream",
          "name": "stdout",
          "text": [
            "step 0, training accuracy 0.3, loss 0.135444, change in loss 0.135444\n",
            "step 10, training accuracy 0.3, loss 0.134876, change in loss 0.000568226\n",
            "step 20, training accuracy 0.3, loss 0.134316, change in loss 0.000560224\n",
            "step 30, training accuracy 0.3, loss 0.133764, change in loss 0.000552222\n",
            "step 40, training accuracy 0.3, loss 0.133219, change in loss 0.00054422\n",
            "step 50, training accuracy 0.3, loss 0.132683, change in loss 0.000536203\n",
            "step 60, training accuracy 0.3, loss 0.132155, change in loss 0.000528231\n",
            "step 70, training accuracy 0.3, loss 0.131635, change in loss 0.000520259\n",
            "step 80, training accuracy 0.3, loss 0.131122, change in loss 0.000512302\n",
            "step 90, training accuracy 0.3, loss 0.130618, change in loss 0.000504404\n",
            "step 100, training accuracy 0.3, loss 0.130126, change in loss 0.00049156\n",
            "step 110, training accuracy 0.3, loss 0.129662, change in loss 0.000464454\n",
            "step 120, training accuracy 0.3, loss 0.129205, change in loss 0.000457421\n",
            "step 130, training accuracy 0.3, loss 0.128754, change in loss 0.000450402\n",
            "step 140, training accuracy 0.3, loss 0.128311, change in loss 0.000443414\n",
            "step 150, training accuracy 0.3, loss 0.127874, change in loss 0.000436515\n",
            "step 160, training accuracy 0.3, loss 0.127445, change in loss 0.00042966\n",
            "step 170, training accuracy 0.3, loss 0.127022, change in loss 0.00042282\n",
            "step 180, training accuracy 0.3, loss 0.126606, change in loss 0.00041607\n",
            "step 190, training accuracy 0.3, loss 0.126196, change in loss 0.00040938\n",
            "step 200, training accuracy 0.3, loss 0.1258, change in loss 0.000396758\n",
            "step 210, training accuracy 0.3, loss 0.125423, change in loss 0.000376612\n",
            "step 220, training accuracy 0.3, loss 0.125052, change in loss 0.000370726\n",
            "step 230, training accuracy 0.3, loss 0.124687, change in loss 0.000364937\n",
            "step 240, training accuracy 0.3, loss 0.124328, change in loss 0.00035917\n",
            "step 250, training accuracy 0.3, loss 0.123975, change in loss 0.000353485\n",
            "step 260, training accuracy 0.3, loss 0.123627, change in loss 0.00034786\n",
            "step 270, training accuracy 0.3, loss 0.123284, change in loss 0.000342302\n",
            "step 280, training accuracy 0.3, loss 0.122948, change in loss 0.000336789\n",
            "step 290, training accuracy 0.3, loss 0.122616, change in loss 0.000331387\n",
            "step 300, training accuracy 0.3, loss 0.122297, change in loss 0.000319548\n",
            "step 310, training accuracy 0.3, loss 0.121992, change in loss 0.000304893\n",
            "step 320, training accuracy 0.3, loss 0.121692, change in loss 0.000300184\n",
            "step 330, training accuracy 0.3, loss 0.121396, change in loss 0.00029552\n",
            "step 340, training accuracy 0.3, loss 0.121105, change in loss 0.00029093\n",
            "step 350, training accuracy 0.3, loss 0.120819, change in loss 0.0002864\n",
            "step 360, training accuracy 0.3, loss 0.120537, change in loss 0.0002819\n",
            "step 370, training accuracy 0.3, loss 0.120259, change in loss 0.000277512\n",
            "step 380, training accuracy 0.3, loss 0.119986, change in loss 0.000273146\n",
            "step 390, training accuracy 0.3, loss 0.119717, change in loss 0.000268847\n",
            "step 400, training accuracy 0.3, loss 0.119459, change in loss 0.000258036\n",
            "step 410, training accuracy 0.3, loss 0.119212, change in loss 0.00024762\n",
            "step 420, training accuracy 0.3, loss 0.118968, change in loss 0.000243895\n",
            "step 430, training accuracy 0.3, loss 0.118728, change in loss 0.000240229\n",
            "step 440, training accuracy 0.3, loss 0.118491, change in loss 0.00023663\n",
            "step 450, training accuracy 0.3, loss 0.118258, change in loss 0.000233069\n",
            "step 460, training accuracy 0.3, loss 0.118028, change in loss 0.000229552\n",
            "step 470, training accuracy 0.3, loss 0.117802, change in loss 0.000226118\n",
            "step 480, training accuracy 0.3, loss 0.11758, change in loss 0.000222683\n",
            "step 490, training accuracy 0.3, loss 0.11736, change in loss 0.000219367\n",
            "step 500, training accuracy 0.3, loss 0.117151, change in loss 0.0002096\n",
            "step 510, training accuracy 0.3, loss 0.116948, change in loss 0.000202313\n",
            "step 520, training accuracy 0.3, loss 0.116749, change in loss 0.000199422\n",
            "step 530, training accuracy 0.3, loss 0.116552, change in loss 0.000196576\n",
            "step 540, training accuracy 0.3, loss 0.116359, change in loss 0.00019376\n",
            "step 550, training accuracy 0.3, loss 0.116168, change in loss 0.000190996\n",
            "step 560, training accuracy 0.3, loss 0.115979, change in loss 0.000188254\n",
            "step 570, training accuracy 0.3, loss 0.115794, change in loss 0.000185572\n",
            "step 580, training accuracy 0.3, loss 0.115611, change in loss 0.000182934\n",
            "step 590, training accuracy 0.3, loss 0.11543, change in loss 0.000180334\n",
            "step 600, training accuracy 0.3, loss 0.115259, change in loss 0.000171587\n",
            "step 610, training accuracy 0.3, loss 0.115092, change in loss 0.00016661\n",
            "step 620, training accuracy 0.3, loss 0.114928, change in loss 0.00016436\n",
            "step 630, training accuracy 0.3, loss 0.114766, change in loss 0.000162154\n",
            "step 640, training accuracy 0.3, loss 0.114606, change in loss 0.000159964\n",
            "step 650, training accuracy 0.3, loss 0.114448, change in loss 0.000157818\n",
            "step 660, training accuracy 0.3, loss 0.114292, change in loss 0.000155702\n",
            "step 670, training accuracy 0.3, loss 0.114139, change in loss 0.000153624\n",
            "step 680, training accuracy 0.3, loss 0.113987, change in loss 0.000151575\n",
            "step 690, training accuracy 0.3, loss 0.113837, change in loss 0.000149556\n",
            "step 700, training accuracy 0.3, loss 0.113696, change in loss 0.000141658\n",
            "step 710, training accuracy 0.3, loss 0.113557, change in loss 0.000138439\n",
            "step 720, training accuracy 0.3, loss 0.113421, change in loss 0.000136688\n",
            "step 730, training accuracy 0.3, loss 0.113286, change in loss 0.000134952\n",
            "step 740, training accuracy 0.3, loss 0.113152, change in loss 0.000133246\n",
            "step 750, training accuracy 0.3, loss 0.113021, change in loss 0.000131607\n",
            "step 760, training accuracy 0.3, loss 0.112891, change in loss 0.000129938\n",
            "step 770, training accuracy 0.3, loss 0.112763, change in loss 0.000128321\n",
            "step 780, training accuracy 0.3, loss 0.112636, change in loss 0.000126734\n",
            "step 790, training accuracy 0.3, loss 0.112511, change in loss 0.00012514\n",
            "step 800, training accuracy 0.3, loss 0.112393, change in loss 0.000118069\n",
            "step 810, training accuracy 0.3, loss 0.112277, change in loss 0.000116058\n",
            "step 820, training accuracy 0.3, loss 0.112162, change in loss 0.000114709\n",
            "step 830, training accuracy 0.3, loss 0.112049, change in loss 0.000113353\n",
            "step 840, training accuracy 0.3, loss 0.111937, change in loss 0.000112042\n",
            "step 850, training accuracy 0.3, loss 0.111826, change in loss 0.000110731\n",
            "step 860, training accuracy 0.32, loss 0.111716, change in loss 0.000109456\n",
            "step 870, training accuracy 0.32, loss 0.111608, change in loss 0.000108168\n",
            "step 880, training accuracy 0.32, loss 0.111501, change in loss 0.000106931\n",
            "step 890, training accuracy 0.32, loss 0.111396, change in loss 0.000105709\n",
            "step 900, training accuracy 0.32, loss 0.111296, change in loss 9.9279e-05\n",
            "step 910, training accuracy 0.32, loss 0.111198, change in loss 9.81987e-05\n",
            "step 920, training accuracy 0.36, loss 0.111101, change in loss 9.71407e-05\n",
            "step 930, training accuracy 0.36, loss 0.111005, change in loss 9.60827e-05\n",
            "step 940, training accuracy 0.38, loss 0.11091, change in loss 9.50545e-05\n",
            "step 950, training accuracy 0.38, loss 0.110816, change in loss 9.40189e-05\n",
            "step 960, training accuracy 0.4, loss 0.110723, change in loss 9.3013e-05\n",
            "step 970, training accuracy 0.42, loss 0.110631, change in loss 9.20296e-05\n",
            "step 980, training accuracy 0.48, loss 0.11054, change in loss 9.10312e-05\n",
            "step 990, training accuracy 0.5, loss 0.11045, change in loss 8.96156e-05\n"
          ]
        }
      ]
    },
    {
      "cell_type": "code",
      "source": [
        "#loss progress on test data on test data \n",
        "%matplotlib inline\n",
        "import numpy as np\n",
        "import matplotlib.pyplot as plt\n",
        "plt.xlabel(\"Epoch\")\n",
        "plt.ylabel(\"Loss\")\n",
        "plt.plot(loss_values)\n",
        "plt.show()"
      ],
      "metadata": {
        "colab": {
          "base_uri": "https://localhost:8080/",
          "height": 279
        },
        "id": "SpK0ENa7V1b4",
        "outputId": "d57619bf-f2e9-432d-8099-05b0d7e1a596"
      },
      "execution_count": 39,
      "outputs": [
        {
          "output_type": "display_data",
          "data": {
            "text/plain": [
              "<Figure size 432x288 with 1 Axes>"
            ],
            "image/png": "[encoded data removed]"
          },
          "metadata": {
            "needs_background": "light"
          }
        }
      ]
    },
    {
      "cell_type": "code",
      "source": [
        "#accuracy progress on test data on test data \n",
        "%matplotlib inline\n",
        "import numpy as np\n",
        "import matplotlib.pyplot as plt\n",
        "plt.xlabel(\"Epoch\")\n",
        "plt.ylabel(\"Loss\")\n",
        "plt.plot(accuracy_values)\n",
        "plt.show()"
      ],
      "metadata": {
        "colab": {
          "base_uri": "https://localhost:8080/",
          "height": 279
        },
        "id": "fWkaUBpdXJzJ",
        "outputId": "3008c695-a9f9-4528-ae04-a76cb03af02b"
      },
      "execution_count": 40,
      "outputs": [
        {
          "output_type": "display_data",
          "data": {
            "text/plain": [
              "<Figure size 432x288 with 1 Axes>"
            ],
            "image/png": "[encoded data removed]"
          },
          "metadata": {
            "needs_background": "light"
          }
        }
      ]
    },
    {
      "cell_type": "code",
      "source": [],
      "metadata": {
        "id": "kwNksB0pWj_y"
      },
      "execution_count": 38,
      "outputs": []
    },
    {
      "cell_type": "code",
      "source": [],
      "metadata": {
        "id": "ZacGqnieXVlb"
      },
      "execution_count": null,
      "outputs": []
    }
  ]
}