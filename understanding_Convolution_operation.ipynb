{
  "nbformat": 4,
  "nbformat_minor": 0,
  "metadata": {
    "colab": {
      "provenance": [],
      "authorship_tag": "ABX9TyNoLLU9VTj3U99I6QLX7kcr"
    },
    "kernelspec": {
      "name": "python3",
      "display_name": "Python 3"
    },
    "language_info": {
      "name": "python"
    }
  },
  "cells": [
    {
      "cell_type": "code",
      "source": [
        "# convolution operation\n",
        "# kernel/filter\n",
        "# stepsize\n",
        "# padding\n",
        "# maxpool "
      ],
      "metadata": {
        "id": "eabTSJ22IFAP"
      },
      "execution_count": null,
      "outputs": []
    },
    {
      "cell_type": "code",
      "execution_count": 7,
      "metadata": {
        "colab": {
          "base_uri": "https://localhost:8080/"
        },
        "id": "doxUVwh_Db4Y",
        "outputId": "bde2eeec-6a92-49db-8a16-53a7980b57ab"
      },
      "outputs": [
        {
          "output_type": "execute_result",
          "data": {
            "text/plain": [
              "array([ 6, 14, 34, 34,  8])"
            ]
          },
          "metadata": {},
          "execution_count": 7
        }
      ],
      "source": [
        "import numpy as np\n",
        "\n",
        "import numpy as np\n",
        "\n",
        "x = [6, 2]\n",
        "h = [1, 2, 5, 4]\n",
        "\n",
        "y = np.convolve(x, h)\n",
        "y  "
      ]
    },
    {
      "cell_type": "code",
      "source": [
        "# linear algebra of example\n",
        "\n",
        "# [2  6]\n",
        "#  |  |\n",
        "#  V  V\n",
        "#  0 [1 2 5 4] #padding with 0\n",
        "\n",
        "# =>  2 * 0 + 6 * 1 = 6\n",
        "\n",
        "#   [2  6]  \n",
        "#    |  |  \n",
        "#    V  V  \n",
        "# 0 [1  2  5  4]  \n",
        "\n",
        "# =>2 * 1 + 6 * 2 = 14\n",
        "\n",
        "#      .\n",
        "#      .\n",
        "#      .\n",
        "\n",
        "\n",
        "#            [2  6]\n",
        "#             |  |\n",
        "#             V  V\n",
        "# 0 [1  2  5  4] 0  \n",
        "\n",
        "# => 2 * 4 + 6 * 0 = 8\n"
      ],
      "metadata": {
        "id": "_LEzLDAtIxYQ"
      },
      "execution_count": null,
      "outputs": []
    },
    {
      "cell_type": "code",
      "source": [
        "#apply convolution using tensorflow"
      ],
      "metadata": {
        "id": "2h50aaenKmbT"
      },
      "execution_count": null,
      "outputs": []
    },
    {
      "cell_type": "code",
      "source": [
        "import tensorflow as tf\n",
        "from IPython.display import Markdown, display\n",
        "\n",
        "def printmd(string):\n",
        "    display(Markdown('# <span style=\"color:red\">'+string+'</span>'))\n"
      ],
      "metadata": {
        "id": "t47Sx_XMKR5p"
      },
      "execution_count": 10,
      "outputs": []
    },
    {
      "cell_type": "code",
      "source": [
        "input = tf.Variable(tf.random.normal([1, 10, 10, 1]))\n",
        "input.numpy()[0][0]"
      ],
      "metadata": {
        "colab": {
          "base_uri": "https://localhost:8080/"
        },
        "id": "gXjr8b12KbbJ",
        "outputId": "dbf9eb5f-3e82-42ca-d7ed-bea443b4c196"
      },
      "execution_count": 15,
      "outputs": [
        {
          "output_type": "execute_result",
          "data": {
            "text/plain": [
              "array([[-0.6317814 ],\n",
              "       [ 0.72318745],\n",
              "       [ 0.17999259],\n",
              "       [-0.5561014 ],\n",
              "       [-0.72948587],\n",
              "       [-1.3698692 ],\n",
              "       [ 2.5643435 ],\n",
              "       [-0.9252161 ],\n",
              "       [ 0.14291991],\n",
              "       [ 0.5371328 ]], dtype=float32)"
            ]
          },
          "metadata": {},
          "execution_count": 15
        }
      ]
    },
    {
      "cell_type": "code",
      "source": [
        "filter = tf.Variable(tf.random.normal([3, 3, 1, 1]))\n",
        "filter.numpy()[0]"
      ],
      "metadata": {
        "colab": {
          "base_uri": "https://localhost:8080/"
        },
        "id": "O9ilRx0fKuvA",
        "outputId": "dbcf0ce1-aead-4bfe-c8e5-a2b0af25b448"
      },
      "execution_count": 21,
      "outputs": [
        {
          "output_type": "execute_result",
          "data": {
            "text/plain": [
              "array([[[ 0.8884843]],\n",
              "\n",
              "       [[-0.5505374]],\n",
              "\n",
              "       [[-0.6660368]]], dtype=float32)"
            ]
          },
          "metadata": {},
          "execution_count": 21
        }
      ]
    },
    {
      "cell_type": "code",
      "source": [
        "op = tf.nn.conv2d(input, filter, strides=[1, 1, 1, 1], padding='VALID')#without padding\n",
        "op2 = tf.nn.conv2d(input, filter, strides=[1, 1, 1, 1], padding='SAME')#with padding\n",
        "\n",
        "# print(\"Input \\n\")\n",
        "# print('{0} \\n'.format(input.numpy()))\n",
        "# print(\"Filter/Kernel \\n\")\n",
        "# print('{0} \\n'.format(filter.numpy()))\n",
        "# print(\"Result/Feature Map with valid positions \\n\")\n",
        "# print(op.numpy())\n",
        "# print('\\n')\n",
        "# print(\"Result/Feature Map with padding \\n\")\n",
        "# print(op2.numpy())\n",
        "\n",
        "op.shape,op2.shape"
      ],
      "metadata": {
        "colab": {
          "base_uri": "https://localhost:8080/"
        },
        "id": "4LkWIGb0LGhh",
        "outputId": "5a11a53c-dfce-435d-ed37-091e107953f1"
      },
      "execution_count": 25,
      "outputs": [
        {
          "output_type": "execute_result",
          "data": {
            "text/plain": [
              "(TensorShape([1, 8, 8, 1]), TensorShape([1, 10, 10, 1]))"
            ]
          },
          "metadata": {},
          "execution_count": 25
        }
      ]
    },
    {
      "cell_type": "code",
      "source": [
        "#apply convolution to images"
      ],
      "metadata": {
        "id": "a2IPXjs5Lut_"
      },
      "execution_count": 26,
      "outputs": []
    },
    {
      "cell_type": "code",
      "source": [
        "# import data\n",
        "from tensorflow.keras import datasets, layers, models\n",
        "(train_images, train_labels), (test_images, test_labels) = datasets.cifar10.load_data()\n"
      ],
      "metadata": {
        "colab": {
          "base_uri": "https://localhost:8080/"
        },
        "id": "sAht3gqpMqAr",
        "outputId": "a627de70-a64d-47f2-ca97-164176d7a46b"
      },
      "execution_count": 28,
      "outputs": [
        {
          "output_type": "stream",
          "name": "stdout",
          "text": [
            "Downloading data from https://www.cs.toronto.edu/~kriz/cifar-10-python.tar.gz\n",
            "170498071/170498071 [==============================] - 2s 0us/step\n"
          ]
        }
      ]
    },
    {
      "cell_type": "code",
      "source": [
        "\n",
        "import matplotlib.pyplot as plt\n",
        "class_names = ['airplane', 'automobile', 'bird', 'cat', 'deer',\n",
        "               'dog', 'frog', 'horse', 'ship', 'truck']\n",
        "\n",
        "plt.figure(figsize=(2,2))\n",
        "\n",
        "plt.imshow(train_images[1])\n",
        "plt.show()\n",
        "train_images[1].shape\n",
        "\n"
      ],
      "metadata": {
        "colab": {
          "base_uri": "https://localhost:8080/",
          "height": 177
        },
        "id": "40dahYqcMqdf",
        "outputId": "e9c929e4-d90e-4155-be9e-04fa2829ed3f"
      },
      "execution_count": 52,
      "outputs": [
        {
          "output_type": "display_data",
          "data": {
            "text/plain": [
              "<Figure size 144x144 with 1 Axes>"
            ],
            "image/png": "[encoded data removed]"
          },
          "metadata": {
            "needs_background": "light"
          }
        },
        {
          "output_type": "execute_result",
          "data": {
            "text/plain": [
              "(32, 32, 3)"
            ]
          },
          "metadata": {},
          "execution_count": 52
        }
      ]
    },
    {
      "cell_type": "code",
      "source": [
        "#flatten image from rgb to monochrome\n",
        "img = np.dot(train_images[1][...,:3], [0.3, 0.3, 0.3])\n",
        "plt.imshow(img)\n",
        "plt.show()\n",
        "img.shape"
      ],
      "metadata": {
        "colab": {
          "base_uri": "https://localhost:8080/",
          "height": 284
        },
        "id": "lO3RgUQOM3M7",
        "outputId": "24fe0edb-f85a-49aa-98ea-e0bc5b1acd6d"
      },
      "execution_count": 60,
      "outputs": [
        {
          "output_type": "display_data",
          "data": {
            "text/plain": [
              "<Figure size 432x288 with 1 Axes>"
            ],
            "image/png": "[encoded data removed]"
          },
          "metadata": {
            "needs_background": "light"
          }
        },
        {
          "output_type": "execute_result",
          "data": {
            "text/plain": [
              "(32, 32)"
            ]
          },
          "metadata": {},
          "execution_count": 60
        }
      ]
    },
    {
      "cell_type": "code",
      "source": [
        "#now we will apply an edge detect kernel to above data\n",
        "from scipy import signal\n",
        "from scipy import misc\n",
        "\n",
        "kernel = np.array([[ 0, 1, 0],\n",
        "                   [ 1,-4, 1],\n",
        "                   [ 0, 1, 0]]) \n",
        "\n",
        "grad = signal.convolve2d(img, kernel, mode='same', boundary='symm')\n",
        "plt.imshow(grad)\n",
        "plt.show()\n",
        "grad.shape"
      ],
      "metadata": {
        "colab": {
          "base_uri": "https://localhost:8080/",
          "height": 284
        },
        "id": "mO4_xohqN5H-",
        "outputId": "77923236-fac9-4aae-b17d-043716ddbda9"
      },
      "execution_count": 75,
      "outputs": [
        {
          "output_type": "display_data",
          "data": {
            "text/plain": [
              "<Figure size 432x288 with 1 Axes>"
            ],
            "image/png": "[encoded data removed]"
          },
          "metadata": {
            "needs_background": "light"
          }
        },
        {
          "output_type": "execute_result",
          "data": {
            "text/plain": [
              "(32, 32)"
            ]
          },
          "metadata": {},
          "execution_count": 75
        }
      ]
    },
    {
      "cell_type": "code",
      "source": [
        "#max pooling \n",
        "import skimage.measure\n",
        "a = skimage.measure.block_reduce(grad, (2,2), np.max)\n",
        "\n",
        "plt.imshow(a)\n",
        "plt.show()\n",
        "a.shape"
      ],
      "metadata": {
        "colab": {
          "base_uri": "https://localhost:8080/",
          "height": 283
        },
        "id": "ava4Vvx5OQ7u",
        "outputId": "a6266388-cba8-4ade-de37-b3e3467db489"
      },
      "execution_count": 76,
      "outputs": [
        {
          "output_type": "display_data",
          "data": {
            "text/plain": [
              "<Figure size 432x288 with 1 Axes>"
            ],
            "image/png": "[encoded data removed]"
          },
          "metadata": {
            "needs_background": "light"
          }
        },
        {
          "output_type": "execute_result",
          "data": {
            "text/plain": [
              "(16, 16)"
            ]
          },
          "metadata": {},
          "execution_count": 76
        }
      ]
    }
  ]
}